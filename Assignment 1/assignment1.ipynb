{
 "cells": [
  {
   "cell_type": "markdown",
   "metadata": {},
   "source": [
    "# COMP9021 19T1 Assignment One knights_and_knaves"
   ]
  },
  {
   "cell_type": "markdown",
   "metadata": {},
   "source": [
    "## Understand the input & output"
   ]
  },
  {
   "cell_type": "markdown",
   "metadata": {},
   "source": [
    "* Input is a file.\n",
    "e.g. test_1.txt see below:"
   ]
  },
  {
   "cell_type": "markdown",
   "metadata": {},
   "source": [
    "I have just seen Sirs Sanjay and Eleonore!<br>\n",
    "\"I am a Knave,\" whispered Sir Eleonore.<br>\n",
    "Who is a Knight and who is a Knave?"
   ]
  },
  {
   "cell_type": "markdown",
   "metadata": {},
   "source": [
    "* Output is all Sir names and the answer of this text puzzle. e.g."
   ]
  },
  {
   "cell_type": "markdown",
   "metadata": {},
   "source": [
    "The Sirs are: Andrew Bill Hilary Nancy<br>\n",
    "There is a unique solution:<br>\n",
    "Sir Andrew is a Knave.<br>\n",
    "Sir Bill is a Knight.<br>\n",
    "Sir Hilary is a Knave.<br>\n",
    "Sir Nancy is a Knight."
   ]
  },
  {
   "cell_type": "markdown",
   "metadata": {},
   "source": [
    "## The first thing, You need to do some text processing"
   ]
  },
  {
   "cell_type": "markdown",
   "metadata": {},
   "source": [
    "* Read the file\n",
    "* process the text in order to let your program easier to find the key point"
   ]
  },
  {
   "cell_type": "markdown",
   "metadata": {},
   "source": [
    "## How to read file?"
   ]
  },
  {
   "cell_type": "markdown",
   "metadata": {},
   "source": [
    "Python has build-in function to help you"
   ]
  },
  {
   "cell_type": "code",
   "execution_count": 2,
   "metadata": {},
   "outputs": [
    {
     "name": "stdout",
     "output_type": "stream",
     "text": [
      "I have just seen Sirs Sanjay and Eleonore!\n",
      "\"I am a Knave,\" whispered Sir Eleonore.\n",
      "Who is a Knight and who is a Knave?\n",
      "\n"
     ]
    }
   ],
   "source": [
    "FILE_NAME = 'test_1.txt'\n",
    "option = 'r' # r means only read, also 'w' means only write. more detail see https://www.w3schools.com/python/python_file_handling.asp\n",
    "\n",
    "file = open(FILE_NAME, option)\n",
    "print(file.read()) # read whole file"
   ]
  },
  {
   "cell_type": "code",
   "execution_count": 3,
   "metadata": {},
   "outputs": [
    {
     "name": "stdout",
     "output_type": "stream",
     "text": [
      "line 0:  I have just seen Sirs Sanjay and Eleonore!\n",
      "\n",
      "line 1:  \"I am a Knave,\" whispered Sir Eleonore.\n",
      "\n",
      "line 2:  Who is a Knight and who is a Knave?\n",
      "\n"
     ]
    }
   ],
   "source": [
    "file = open(FILE_NAME, option)\n",
    "for index, line in enumerate(file): # read line one by on\n",
    "    print(f'line {index}: ', line) # why there is a blank between two line => '\\n'  new line"
   ]
  },
  {
   "cell_type": "code",
   "execution_count": 4,
   "metadata": {},
   "outputs": [
    {
     "name": "stdout",
     "output_type": "stream",
     "text": [
      "line 0:  I have just seen Sirs Sanjay and Eleonore!\n",
      "line 1:  \"I am a Knave,\" whispered Sir Eleonore.\n",
      "line 2:  Who is a Knight and who is a Knave?\n"
     ]
    }
   ],
   "source": [
    "file = open(FILE_NAME, option)\n",
    "for index, line in enumerate(file):\n",
    "    print(f'line {index}: ', line, end = '') # ignore print function to create a new line"
   ]
  },
  {
   "cell_type": "markdown",
   "metadata": {},
   "source": [
    "## Be careful! This not means it has already helped you split the sentence"
   ]
  },
  {
   "cell_type": "code",
   "execution_count": 5,
   "metadata": {},
   "outputs": [
    {
     "name": "stdout",
     "output_type": "stream",
     "text": [
      "line 0:  Yesterday, I visited Sirs Andrew and Nancy. I asked Sir Andrew\n",
      "line 1:  who he was, and he answered impatiently: \"Sir Nancy and I\n",
      "line 2:  are Knaves!\" Then I met Sir Bill who introduced me to his wife\n",
      "line 3:  and told me: \"at least one of Sir Hilary\n",
      "line 4:  and I is a Knave.\" Should I trust them? \n"
     ]
    }
   ],
   "source": [
    "FILE_NAME = 'test_3.txt'\n",
    "file = open(FILE_NAME, option)\n",
    "for index, line in enumerate(file):\n",
    "    print(f'line {index}: ', line, end = '')"
   ]
  },
  {
   "cell_type": "markdown",
   "metadata": {},
   "source": [
    "## We don't want one sentence be splited, it will be hard to make it together<br> so I suggest you can read whole file and stone in a variable"
   ]
  },
  {
   "cell_type": "code",
   "execution_count": 6,
   "metadata": {},
   "outputs": [
    {
     "data": {
      "text/plain": [
       "<_io.TextIOWrapper name='test_1.txt' mode='r' encoding='cp936'>"
      ]
     },
     "execution_count": 6,
     "metadata": {},
     "output_type": "execute_result"
    }
   ],
   "source": [
    "FILE_NAME = 'test_1.txt'\n",
    "option = 'r'\n",
    "file = open(FILE_NAME, option)\n",
    "file # file is not a string variable, you need read it and store it"
   ]
  },
  {
   "cell_type": "code",
   "execution_count": 7,
   "metadata": {},
   "outputs": [
    {
     "data": {
      "text/plain": [
       "'I have just seen Sirs Sanjay and Eleonore!\\n\"I am a Knave,\" whispered Sir Eleonore.\\nWho is a Knight and who is a Knave?\\n'"
      ]
     },
     "execution_count": 7,
     "metadata": {},
     "output_type": "execute_result"
    }
   ],
   "source": [
    "my_text = file.read()\n",
    "my_text # \\n => new line "
   ]
  },
  {
   "cell_type": "code",
   "execution_count": 8,
   "metadata": {},
   "outputs": [
    {
     "name": "stdout",
     "output_type": "stream",
     "text": [
      "I have just seen Sirs Sanjay and Eleonore!\n",
      "\"I am a Knave,\" whispered Sir Eleonore.\n",
      "Who is a Knight and who is a Knave?\n",
      "\n"
     ]
    }
   ],
   "source": [
    "print(my_text) # \\n Explanation to a new line"
   ]
  },
  {
   "cell_type": "markdown",
   "metadata": {},
   "source": [
    "## Don't forgot to close the file"
   ]
  },
  {
   "cell_type": "code",
   "execution_count": 9,
   "metadata": {},
   "outputs": [],
   "source": [
    "file.close()\n"
   ]
  },
  {
   "cell_type": "markdown",
   "metadata": {},
   "source": [
    "## The \"\\n\" is useless, we need ignore it, remove it"
   ]
  },
  {
   "cell_type": "code",
   "execution_count": 10,
   "metadata": {},
   "outputs": [
    {
     "data": {
      "text/plain": [
       "'I have just seen Sirs Sanjay and Eleonore!\\n\"I am a Knave,\" whispered Sir Eleonore.\\nWho is a Knight and who is a Knave?\\n'"
      ]
     },
     "execution_count": 10,
     "metadata": {},
     "output_type": "execute_result"
    }
   ],
   "source": [
    "my_text"
   ]
  },
  {
   "cell_type": "code",
   "execution_count": 1,
   "metadata": {},
   "outputs": [
    {
     "data": {
      "text/plain": [
       "'cbc'"
      ]
     },
     "execution_count": 1,
     "metadata": {},
     "output_type": "execute_result"
    }
   ],
   "source": [
    "# str.replace() is very good tool e.g.\n",
    "string = 'abc'\n",
    "string = string.replace('a', 'c')\n",
    "string"
   ]
  },
  {
   "cell_type": "code",
   "execution_count": 12,
   "metadata": {},
   "outputs": [
    {
     "data": {
      "text/plain": [
       "'bc'"
      ]
     },
     "execution_count": 12,
     "metadata": {},
     "output_type": "execute_result"
    }
   ],
   "source": [
    "string = 'abc'\n",
    "string = string.replace('a', '')\n",
    "string"
   ]
  },
  {
   "cell_type": "code",
   "execution_count": 13,
   "metadata": {},
   "outputs": [
    {
     "data": {
      "text/plain": [
       "'I have just seen Sirs Sanjay and Eleonore!\"I am a Knave,\" whispered Sir Eleonore.Who is a Knight and who is a Knave?'"
      ]
     },
     "execution_count": 13,
     "metadata": {},
     "output_type": "execute_result"
    }
   ],
   "source": [
    "my_text = my_text.replace('\\n', ' ')\n",
    "my_text"
   ]
  },
  {
   "cell_type": "markdown",
   "metadata": {},
   "source": [
    "## Now, we need split the sentence"
   ]
  },
  {
   "cell_type": "code",
   "execution_count": 14,
   "metadata": {},
   "outputs": [
    {
     "data": {
      "text/plain": [
       "['I have just seen Sirs Sanjay and Eleonore!\"I am a Knave,\" whispered Sir Eleonore',\n",
       " 'Who is a Knight and who is a Knave?']"
      ]
     },
     "execution_count": 14,
     "metadata": {},
     "output_type": "execute_result"
    }
   ],
   "source": [
    "my_text.split('.')"
   ]
  },
  {
   "cell_type": "code",
   "execution_count": 15,
   "metadata": {},
   "outputs": [
    {
     "data": {
      "text/plain": [
       "['I have just seen Sirs Sanjay and Eleonore',\n",
       " '\"I am a Knave,\" whispered Sir Eleonore.Who is a Knight and who is a Knave?']"
      ]
     },
     "execution_count": 15,
     "metadata": {},
     "output_type": "execute_result"
    }
   ],
   "source": [
    "my_text.split('!')"
   ]
  },
  {
   "cell_type": "markdown",
   "metadata": {},
   "source": [
    "## The build-in split() not works, So we can use re module"
   ]
  },
  {
   "cell_type": "code",
   "execution_count": 2,
   "metadata": {},
   "outputs": [],
   "source": [
    "import re # more detail about re see https://docs.python.org/2/library/re.html"
   ]
  },
  {
   "cell_type": "markdown",
   "metadata": {},
   "source": [
    "## You can use re.split()"
   ]
  },
  {
   "cell_type": "markdown",
   "metadata": {},
   "source": [
    "How to use re.split(pattern, string)? string means your content, and pattern means `Regular Expression`"
   ]
  },
  {
   "cell_type": "markdown",
   "metadata": {},
   "source": [
    "## Introduction to Regular Expression"
   ]
  },
  {
   "cell_type": "code",
   "execution_count": 4,
   "metadata": {},
   "outputs": [
    {
     "data": {
      "text/plain": [
       "['', 'bc']"
      ]
     },
     "execution_count": 4,
     "metadata": {},
     "output_type": "execute_result"
    }
   ],
   "source": [
    "re.split('a', 'abc')"
   ]
  },
  {
   "cell_type": "markdown",
   "metadata": {},
   "source": [
    "In Regular Expression, \".\" not means full stop, it means evey single word"
   ]
  },
  {
   "cell_type": "code",
   "execution_count": 18,
   "metadata": {},
   "outputs": [
    {
     "data": {
      "text/plain": [
       "['', '', '', '']"
      ]
     },
     "execution_count": 18,
     "metadata": {},
     "output_type": "execute_result"
    }
   ],
   "source": [
    "re.split('.', 'abc') # . means a/b/c"
   ]
  },
  {
   "cell_type": "code",
   "execution_count": 19,
   "metadata": {},
   "outputs": [
    {
     "data": {
      "text/plain": [
       "['a', 'bc']"
      ]
     },
     "execution_count": 19,
     "metadata": {},
     "output_type": "execute_result"
    }
   ],
   "source": [
    "re.split('\\.', 'a.bc')  # you need '\\' Backslash, so '.' will be parsed to true '.' == full stop"
   ]
  },
  {
   "cell_type": "markdown",
   "metadata": {},
   "source": [
    "Also \"?\" means match once, you need use '\\?'"
   ]
  },
  {
   "cell_type": "markdown",
   "metadata": {},
   "source": [
    "## How to split by two or more signal"
   ]
  },
  {
   "cell_type": "markdown",
   "metadata": {},
   "source": [
    "In Regular Expression, \"[]\" Square brackets used to indicate a set of characters <br>\n",
    "e.g. '[ab]' means it will mach a or b"
   ]
  },
  {
   "cell_type": "code",
   "execution_count": 6,
   "metadata": {},
   "outputs": [
    {
     "data": {
      "text/plain": [
       "['c', '', 'c', 'c']"
      ]
     },
     "execution_count": 6,
     "metadata": {},
     "output_type": "execute_result"
    }
   ],
   "source": [
    "re.split('[ab]', 'cacbc')"
   ]
  },
  {
   "cell_type": "code",
   "execution_count": 9,
   "metadata": {},
   "outputs": [
    {
     "data": {
      "text/plain": [
       "['Yesterday, I visited Sirs Andrew and Nancy',\n",
       " ' I asked Sir Andrew who he was, and he answered impatiently: \"Sir Nancy and I are Knaves',\n",
       " '\" Then I met Sir Bill who introduced me to his wife and told me: \"at least one of Sir Hilary and I is a Knave',\n",
       " '\" Should I trust them',\n",
       " '']"
      ]
     },
     "execution_count": 9,
     "metadata": {},
     "output_type": "execute_result"
    }
   ],
   "source": [
    "re.split('[?.!]', 'Yesterday, I visited Sirs Andrew and Nancy. I asked Sir Andrew who he was, and he answered impatiently: \"Sir Nancy and I are Knaves!\" Then I met Sir Bill who introduced me to his wife and told me: \"at least one of Sir Hilary and I is a Knave.\" Should I trust them?')"
   ]
  },
  {
   "cell_type": "markdown",
   "metadata": {},
   "source": [
    "## After That, You can get split sentences."
   ]
  },
  {
   "cell_type": "code",
   "execution_count": 8,
   "metadata": {},
   "outputs": [
    {
     "data": {
      "text/plain": [
       "['I have just seen Sirs Sanjay and Eleonore',\n",
       " '\"I am a Knave,\" whispered Sir Eleonore',\n",
       " 'Who is a Knight and who is a Knave?']"
      ]
     },
     "execution_count": 8,
     "metadata": {},
     "output_type": "execute_result"
    }
   ],
   "source": [
    "my_text = ['I have just seen Sirs Sanjay and Eleonore', '\"I am a Knave,\" whispered Sir Eleonore', 'Who is a Knight and who is a Knave?']\n",
    "my_text"
   ]
  },
  {
   "cell_type": "markdown",
   "metadata": {},
   "source": [
    "## In test_3.txt, you can see the ! exclamation mark before the \" double quote. If we want the sentence incldue last \", you can exchange two marks location."
   ]
  },
  {
   "cell_type": "markdown",
   "metadata": {},
   "source": [
    "Yesterday, I visited Sirs Andrew and Nancy. I asked Sir Andrew\n",
    "who he was, and he answered impatiently: \"Sir Nancy and I\n",
    "are Knaves!\" Then I met Sir Bill who introduced me to his wife\n",
    "and told me: \"at least one of Sir Hilary\n",
    "and I is a Knave.\" Should I trust them? "
   ]
  },
  {
   "cell_type": "code",
   "execution_count": null,
   "metadata": {},
   "outputs": [],
   "source": [
    "!\" => \"!"
   ]
  },
  {
   "cell_type": "markdown",
   "metadata": {},
   "source": [
    "## Now, we need to transform the sentence to python language."
   ]
  },
  {
   "cell_type": "markdown",
   "metadata": {},
   "source": [
    "## Firstly, you need to fully unstand the meaning of logical sentence."
   ]
  },
  {
   "cell_type": "markdown",
   "metadata": {},
   "source": [
    "\u000f At/at least one of Conjunction_of_Sirs/us is a Knight/Knave\n",
    "\u000f At/at most one of Conjunction_of_Sirs/us is a Knight/Knave\n",
    "\u000f Exactly/exactly one of Conjunction_of_Sirs/us is a Knight/Knave\n",
    "\u000f All/all of us are Knights/Knaves\n",
    "\u000f I am a Knight/Knave\n",
    "\u000f Sir Sir_Name is a Knight/Knave\n",
    "\u000f Disjunction_of_Sirs is a Knight/Knave\n",
    "\u000f Conjunction_of_Sirs are Knights/Knaves"
   ]
  },
  {
   "cell_type": "markdown",
   "metadata": {},
   "source": [
    "if we can assume this sentence is truth\n",
    "e.g. at least one of Sir A, Sir B or Sir C is a Knight\n",
    "just A or B or C \n",
    "this is same to \"Disjunction_of_Sirs is a Knight/Knave\"\n",
    "\n",
    "e.g. at most one of Sir A, Sir B and Sir C are Knights\n",
    "just if A is Knight and (B and C not a Knight) / B is Knight and (A and C not a Knight) / C is Knight and (B and A not a Knight) \n",
    "            / A and B and C not a Knight\n",
    "\n",
    "e.g. exactly one of  Sir A, Sir B or Sir Cs is a Knight \n",
    "just if A is Knight and (B and C not a Knight) / B is Knight and (A and C not a Knight) / C is Knight and (B and A not a Knight)\n",
    "\n",
    "e.g. All of us are Knights. us = Sir A B C\n",
    "just A and B and C are Knights \n",
    "this is same to \"I am a Knight/Knave\" \"Sir Sir_Name is a Knight/Knave\" \"Conjunction_of_Sirs are Knights/Knaves\"\n",
    "\n",
    "Now, you guys can consider if this sentence is not truth. "
   ]
  },
  {
   "cell_type": "markdown",
   "metadata": {},
   "source": [
    "## Once you understand these logical, you need parse the sentences."
   ]
  },
  {
   "cell_type": "markdown",
   "metadata": {},
   "source": [
    "Yesterday, I visited Sirs Andrew and Nancy. I asked Sir Andrew\n",
    "who he was, and he answered impatiently: \"Sir Nancy and I\n",
    "are Knaves!\" Then I met Sir Bill who introduced me to his wife\n",
    "and told me: \"at least one of Sir Hilary\n",
    "and I is a Knave.\" Should I trust them? "
   ]
  },
  {
   "cell_type": "markdown",
   "metadata": {},
   "source": [
    "Judge whether there is a double quote in this sentce.<br>\n",
    "And Judge the key point to know the logical of this sentence, e.g. exactly, most, least, all ..."
   ]
  },
  {
   "cell_type": "markdown",
   "metadata": {},
   "source": [
    "## You need consider a data structure to store this logical sentence"
   ]
  },
  {
   "cell_type": "code",
   "execution_count": 13,
   "metadata": {},
   "outputs": [
    {
     "data": {
      "text/plain": [
       "False"
      ]
     },
     "execution_count": 13,
     "metadata": {},
     "output_type": "execute_result"
    }
   ],
   "source": [
    "{A:[[[B, C, D], 'most', 'Knight'], [[D, E], 'all', 'Knave']]} # may say two or more dialogs"
   ]
  },
  {
   "cell_type": "code",
   "execution_count": null,
   "metadata": {},
   "outputs": [],
   "source": [
    "name_list = [A, B ,C] # set, one name only store once\n",
    "# A = 0, B = 1, C = 2 Use index to replace the string\n",
    "{0:[[[1, 2, 3], 'most', 1], [[D, E], 'all', 0]]} "
   ]
  },
  {
   "cell_type": "markdown",
   "metadata": {},
   "source": [
    "Also, do same things on logical key word and their identity(Knight or Knave)"
   ]
  },
  {
   "cell_type": "markdown",
   "metadata": {},
   "source": [
    "## They are many ways to solve this puzzle. <br>\n",
    "## You can find all possible in the dialog or you can try all the possible"
   ]
  },
  {
   "cell_type": "markdown",
   "metadata": {},
   "source": [
    "e.g. [B, C, D], 'most', 'Knight'] => B is Knight, C is Knave, D is Knave to check next dialog"
   ]
  },
  {
   "cell_type": "markdown",
   "metadata": {},
   "source": [
    "## Personlly, I use the second way, and how to generate all the possible?"
   ]
  },
  {
   "cell_type": "code",
   "execution_count": 17,
   "metadata": {},
   "outputs": [
    {
     "name": "stdout",
     "output_type": "stream",
     "text": [
      "0000\n",
      "0001\n",
      "0010\n",
      "0011\n",
      "0100\n",
      "0101\n",
      "0110\n",
      "0111\n",
      "1000\n",
      "1001\n",
      "1010\n",
      "1011\n",
      "1100\n",
      "1101\n",
      "1110\n",
      "1111\n"
     ]
    },
    {
     "data": {
      "text/plain": [
       "False"
      ]
     },
     "execution_count": 17,
     "metadata": {},
     "output_type": "execute_result"
    }
   ],
   "source": [
    "# if there is 4 people, all possible is \n",
    "for i in range(2 ** 4):\n",
    "    print(f'{i:04b}')\n",
    "    "
   ]
  },
  {
   "cell_type": "markdown",
   "metadata": {},
   "source": [
    "Cheak this to dialog"
   ]
  },
  {
   "cell_type": "code",
   "execution_count": 24,
   "metadata": {},
   "outputs": [
    {
     "name": "stdout",
     "output_type": "stream",
     "text": [
      "00\n",
      "01\n",
      "10\n",
      "11\n"
     ]
    }
   ],
   "source": [
    "for i in range(2 ** 2):\n",
    "    print(f'{i:02b}')"
   ]
  },
  {
   "cell_type": "markdown",
   "metadata": {},
   "source": [
    "A said B is Knight"
   ]
  },
  {
   "cell_type": "markdown",
   "metadata": {},
   "source": [
    "00: Assume A is Knave and B is Knave\n",
    "    \"B is Knight\" is not correct because A is Knave => B is Knave => correct\n",
    "01: Assume A is Knight and B is Knave\n",
    "    \"B is Knight\" is correct because A is Knight => B is Knight => not correct\n",
    "10: Assume A is Knave and B is Knight\n",
    "    \"B is Knight\" is not correct because A is Knave => B is Knave => not correct\n",
    "11: Assume A is Knight and B is Knight\n",
    "    \"B is Knight\" is correct because A is Knight => B is Knight => correct"
   ]
  },
  {
   "cell_type": "markdown",
   "metadata": {},
   "source": [
    "## I suggest Bitwise operation"
   ]
  },
  {
   "cell_type": "code",
   "execution_count": 25,
   "metadata": {},
   "outputs": [
    {
     "data": {
      "text/plain": [
       "32"
      ]
     },
     "execution_count": 25,
     "metadata": {},
     "output_type": "execute_result"
    }
   ],
   "source": [
    "1 << 5 # index from 0 "
   ]
  },
  {
   "cell_type": "code",
   "execution_count": 26,
   "metadata": {},
   "outputs": [
    {
     "data": {
      "text/plain": [
       "'0b100000'"
      ]
     },
     "execution_count": 26,
     "metadata": {},
     "output_type": "execute_result"
    }
   ],
   "source": [
    "bin(32)"
   ]
  },
  {
   "cell_type": "code",
   "execution_count": 27,
   "metadata": {},
   "outputs": [
    {
     "data": {
      "text/plain": [
       "8"
      ]
     },
     "execution_count": 27,
     "metadata": {},
     "output_type": "execute_result"
    }
   ],
   "source": [
    "1 << 3"
   ]
  },
  {
   "cell_type": "code",
   "execution_count": 28,
   "metadata": {},
   "outputs": [
    {
     "data": {
      "text/plain": [
       "'0b1000'"
      ]
     },
     "execution_count": 28,
     "metadata": {},
     "output_type": "execute_result"
    }
   ],
   "source": [
    "bin(8)"
   ]
  },
  {
   "cell_type": "code",
   "execution_count": 29,
   "metadata": {},
   "outputs": [
    {
     "data": {
      "text/plain": [
       "10"
      ]
     },
     "execution_count": 29,
     "metadata": {},
     "output_type": "execute_result"
    }
   ],
   "source": [
    "#'1010' => int('1010', 2)\n",
    "int('1010', 2)\n",
    "1000\n",
    "1010\n",
    "1000"
   ]
  },
  {
   "cell_type": "code",
   "execution_count": 30,
   "metadata": {},
   "outputs": [
    {
     "data": {
      "text/plain": [
       "8"
      ]
     },
     "execution_count": 30,
     "metadata": {},
     "output_type": "execute_result"
    }
   ],
   "source": [
    "10 & 8"
   ]
  },
  {
   "cell_type": "code",
   "execution_count": 31,
   "metadata": {},
   "outputs": [
    {
     "data": {
      "text/plain": [
       "1"
      ]
     },
     "execution_count": 31,
     "metadata": {},
     "output_type": "execute_result"
    }
   ],
   "source": [
    "1 and 1"
   ]
  },
  {
   "cell_type": "code",
   "execution_count": 32,
   "metadata": {},
   "outputs": [
    {
     "data": {
      "text/plain": [
       "0"
      ]
     },
     "execution_count": 32,
     "metadata": {},
     "output_type": "execute_result"
    }
   ],
   "source": [
    "1 and 0"
   ]
  },
  {
   "cell_type": "code",
   "execution_count": 33,
   "metadata": {},
   "outputs": [
    {
     "data": {
      "text/plain": [
       "0"
      ]
     },
     "execution_count": 33,
     "metadata": {},
     "output_type": "execute_result"
    }
   ],
   "source": [
    "0 and 0"
   ]
  },
  {
   "cell_type": "code",
   "execution_count": 34,
   "metadata": {},
   "outputs": [
    {
     "data": {
      "text/plain": [
       "6"
      ]
     },
     "execution_count": 34,
     "metadata": {},
     "output_type": "execute_result"
    }
   ],
   "source": [
    "int('0110', 2)"
   ]
  },
  {
   "cell_type": "code",
   "execution_count": 35,
   "metadata": {},
   "outputs": [
    {
     "data": {
      "text/plain": [
       "0"
      ]
     },
     "execution_count": 35,
     "metadata": {},
     "output_type": "execute_result"
    }
   ],
   "source": [
    "6 & 8"
   ]
  }
 ],
 "metadata": {
  "kernelspec": {
   "display_name": "Python 3",
   "language": "python",
   "name": "python3"
  },
  "language_info": {
   "codemirror_mode": {
    "name": "ipython",
    "version": 3
   },
   "file_extension": ".py",
   "mimetype": "text/x-python",
   "name": "python",
   "nbconvert_exporter": "python",
   "pygments_lexer": "ipython3",
   "version": "3.6.4"
  }
 },
 "nbformat": 4,
 "nbformat_minor": 2
}
